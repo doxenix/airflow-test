{
 "cells": [
  {
   "cell_type": "code",
   "execution_count": 50,
   "id": "1812ec8b-67fc-4260-906a-570622428704",
   "metadata": {},
   "outputs": [],
   "source": [
    "! pip3 install --upgrade google-cloud-aiplatform -q"
   ]
  },
  {
   "cell_type": "code",
   "execution_count": 69,
   "id": "c9f14eb7-64d2-4685-b34b-5eef5aa19706",
   "metadata": {},
   "outputs": [
    {
     "name": "stdout",
     "output_type": "stream",
     "text": [
      "Project ID: vertex-fs\n"
     ]
    }
   ],
   "source": [
    "import datetime\n",
    "import time\n",
    "import pandas as pd\n",
    "from google.cloud import aiplatform\n",
    "import pandas as pd\n",
    "\n",
    "# REGION = \"europe-west4\"\n",
    "REGION = \"us-central1\"\n",
    "\n",
    "shell_output = ! gcloud config list --format 'value(core.project)' 2>/dev/null\n",
    "PROJECT_ID = shell_output[0]\n",
    "print(\"Project ID:\", PROJECT_ID)\n",
    "\n",
    "\n",
    "aiplatform.init(project=PROJECT_ID, location=REGION)"
   ]
  },
  {
   "cell_type": "code",
   "execution_count": 70,
   "id": "90fe5760-41b1-426d-ad1e-c1dd528945a5",
   "metadata": {},
   "outputs": [
    {
     "name": "stdout",
     "output_type": "stream",
     "text": [
      "Creating Featurestore\n",
      "Create Featurestore backing LRO: projects/63372408652/locations/us-central1/featurestores/orders_predictions_686kh6b7/operations/1024876572324134912\n",
      "Featurestore created. Resource name: projects/63372408652/locations/us-central1/featurestores/orders_predictions_686kh6b7\n",
      "To use this Featurestore in another session:\n",
      "featurestore = aiplatform.Featurestore('projects/63372408652/locations/us-central1/featurestores/orders_predictions_686kh6b7')\n",
      "CPU times: user 173 ms, sys: 72.3 ms, total: 245 ms\n",
      "Wall time: 5min 42s\n"
     ]
    }
   ],
   "source": [
    "%%time\n",
    "import random\n",
    "import string\n",
    "\n",
    "\n",
    "# Generate a uuid of a specifed length(default=8)\n",
    "def generate_uuid(length: int = 8) -> str:\n",
    "    return \"\".join(random.choices(string.ascii_lowercase + string.digits, k=length))\n",
    "\n",
    "UUID = generate_uuid()\n",
    "\n",
    "orders_predictions_feature_store = aiplatform.Featurestore.create(\n",
    "    featurestore_id=f\"orders_predictions_{UUID}\", \n",
    "    online_store_fixed_node_count=1,\n",
    "    project=PROJECT_ID,\n",
    "    location=REGION,\n",
    "    sync=True    \n",
    ")\n",
    "\n",
    "\n",
    "# orders_predictions_feature_store = aiplatform.featurestore.Featurestore(featurestore_name=\"orders_predictions_729s3uvu\")"
   ]
  },
  {
   "cell_type": "code",
   "execution_count": 71,
   "id": "e214fccb-c853-4526-af72-63521f0f8117",
   "metadata": {},
   "outputs": [],
   "source": [
    "def generate_entities(size):\n",
    "    return np.random.choice(size, size=size, replace=False)"
   ]
  },
  {
   "cell_type": "code",
   "execution_count": 72,
   "id": "c84660e9-c2c2-4372-a203-122a0ded73f4",
   "metadata": {},
   "outputs": [],
   "source": [
    "import numpy as np\n",
    "from sklearn.datasets import make_hastie_10_2\n",
    "from datetime import datetime, timezone\n",
    "\n",
    "def generate_data(entities, year=2021, month=10, day=1) -> pd.DataFrame:\n",
    "    n_samples=len(entities)\n",
    "    X, y = make_hastie_10_2(n_samples=n_samples, random_state=0)\n",
    "    columns = [\"f0\", \"f1\", \"f2\", \"f3\", \"f4\", \"f5\", \"f6\", \"f7\", \"f8\", \"f9\"]\n",
    "    df = pd.DataFrame(X, columns=columns)\n",
    "\n",
    "    # new_cols = [f\"f{num}\" for num in range(10,20)]\n",
    "    # df[new_cols] = df[columns]\n",
    "\n",
    "    # new_cols = [f\"f{num}\" for num in range(20,30)]\n",
    "    # df[new_cols] = df[columns]\n",
    "\n",
    "    # new_cols = [f\"f{num}\" for num in range(30,40)]\n",
    "    # df[new_cols] = df[columns]\n",
    "\n",
    "    # new_cols = [f\"f{num}\" for num in range(40,50)]\n",
    "    # df[new_cols] = df[columns]\n",
    "\n",
    "    # new_cols = [f\"f{num}\" for num in range(50,60)]\n",
    "    # df[new_cols] = df[columns]\n",
    "\n",
    "    # new_cols = [f\"f{num}\" for num in range(60,70)]\n",
    "    # df[new_cols] = df[columns]\n",
    "\n",
    "    # new_cols = [f\"f{num}\" for num in range(70,80)]\n",
    "    # df[new_cols] = df[columns]\n",
    "\n",
    "    # new_cols = [f\"f{num}\" for num in range(80,90)]\n",
    "    # df[new_cols] = df[columns]\n",
    "\n",
    "    # new_cols = [f\"f{num}\" for num in range(90,100)]\n",
    "    # df[new_cols] = df[columns]    \n",
    "\n",
    "    df[\"y\"]=y\n",
    "    df['user_id'] = entities\n",
    "    df['timestamp'] = pd.to_datetime(\n",
    "            np.random.randint(\n",
    "                datetime(year, month, day, 0,tzinfo=timezone.utc).timestamp(),\n",
    "                datetime(year, month, day, 22,tzinfo=timezone.utc).timestamp(),\n",
    "                size=n_samples),\n",
    "        unit=\"s\", utc=True\n",
    "    )\n",
    "    # df['created'] = pd.to_datetime(datetime.now(), utc=True)\n",
    "    return df"
   ]
  },
  {
   "cell_type": "code",
   "execution_count": 73,
   "id": "4429094f-011d-4f60-9e7e-2621cacb9037",
   "metadata": {},
   "outputs": [],
   "source": [
    "entities=generate_entities(1000)"
   ]
  },
  {
   "cell_type": "code",
   "execution_count": 74,
   "id": "2caaac3a-d2dc-4826-8574-86270e805a81",
   "metadata": {},
   "outputs": [],
   "source": [
    "import random\n",
    "\n",
    "all_data=[]\n",
    "\n",
    "for _ in range(1,2):\n",
    "    data=generate_data(entities,year=2023,month=random.randint(1, 12), day=random.randint(1, 25))\n",
    "    all_data.append(data)\n",
    "        \n",
    "all_dd=pd.concat(all_data)\n",
    "all_dd.set_index('timestamp')\n",
    "all_dd[\"user_id\"] = all_dd[\"user_id\"].astype(str)\n",
    "all_dd[\"timestamp\"] = pd.to_datetime(all_dd[\"timestamp\"], format=\"%Y-%m-%d %H:%M:%S.%f\", utc=True)\n",
    "all_dd.to_parquet(\"./all_data.parquet\")\n",
    "all_dd[[\"user_id\", \"timestamp\"]].to_parquet(\"entity.parquet\")"
   ]
  },
  {
   "cell_type": "code",
   "execution_count": 37,
   "id": "407f7398-e3d5-4aea-9964-2b3d1296e1a1",
   "metadata": {},
   "outputs": [
    {
     "name": "stderr",
     "output_type": "stream",
     "text": [
      "/opt/conda/lib/python3.7/site-packages/ipykernel_launcher.py:2: SettingWithCopyWarning: \n",
      "A value is trying to be set on a copy of a slice from a DataFrame.\n",
      "Try using .loc[row_indexer,col_indexer] = value instead\n",
      "\n",
      "See the caveats in the documentation: https://pandas.pydata.org/pandas-docs/stable/user_guide/indexing.html#returning-a-view-versus-a-copy\n",
      "  \n",
      "/opt/conda/lib/python3.7/site-packages/ipykernel_launcher.py:3: SettingWithCopyWarning: \n",
      "A value is trying to be set on a copy of a slice from a DataFrame.\n",
      "Try using .loc[row_indexer,col_indexer] = value instead\n",
      "\n",
      "See the caveats in the documentation: https://pandas.pydata.org/pandas-docs/stable/user_guide/indexing.html#returning-a-view-versus-a-copy\n",
      "  This is separate from the ipykernel package so we can avoid doing imports until\n",
      "/opt/conda/lib/python3.7/site-packages/ipykernel_launcher.py:4: SettingWithCopyWarning: \n",
      "A value is trying to be set on a copy of a slice from a DataFrame.\n",
      "Try using .loc[row_indexer,col_indexer] = value instead\n",
      "\n",
      "See the caveats in the documentation: https://pandas.pydata.org/pandas-docs/stable/user_guide/indexing.html#returning-a-view-versus-a-copy\n",
      "  after removing the cwd from sys.path.\n"
     ]
    }
   ],
   "source": [
    "small_dd = all_dd[[\"f0\", \"f1\", \"user_id\", \"timestamp\"]]\n",
    "small_dd[\"f0\"] = small_dd[\"f0\"].astype(int)\n",
    "small_dd[\"f1\"] = small_dd[\"f0\"].astype(int)\n",
    "small_dd[\"user_id\"] = \"user_\" + small_dd[\"user_id\"]"
   ]
  },
  {
   "cell_type": "code",
   "execution_count": 86,
   "id": "b4b58d0b-b967-4d11-b983-8d45cc5c15b4",
   "metadata": {},
   "outputs": [
    {
     "name": "stdout",
     "output_type": "stream",
     "text": [
      "<class 'pandas.core.frame.DataFrame'>\n",
      "RangeIndex: 1000 entries, 0 to 999\n",
      "Data columns (total 13 columns):\n",
      " #   Column     Non-Null Count  Dtype              \n",
      "---  ------     --------------  -----              \n",
      " 0   f0         1000 non-null   float64            \n",
      " 1   f1         1000 non-null   float64            \n",
      " 2   f2         1000 non-null   float64            \n",
      " 3   f3         1000 non-null   float64            \n",
      " 4   f4         1000 non-null   float64            \n",
      " 5   f5         1000 non-null   float64            \n",
      " 6   f6         1000 non-null   float64            \n",
      " 7   f7         1000 non-null   float64            \n",
      " 8   f8         1000 non-null   float64            \n",
      " 9   f9         1000 non-null   float64            \n",
      " 10  y          1000 non-null   float64            \n",
      " 11  user_id    1000 non-null   object             \n",
      " 12  timestamp  1000 non-null   datetime64[ns, UTC]\n",
      "dtypes: datetime64[ns, UTC](1), float64(11), object(1)\n",
      "memory usage: 101.7+ KB\n"
     ]
    }
   ],
   "source": [
    "all_dd.info()"
   ]
  },
  {
   "cell_type": "code",
   "execution_count": 75,
   "id": "a037e14d-221a-46ef-a0c7-139d4b791bd4",
   "metadata": {},
   "outputs": [
    {
     "name": "stdout",
     "output_type": "stream",
     "text": [
      "Creating EntityType\n",
      "Create EntityType backing LRO: projects/63372408652/locations/us-central1/featurestores/orders_predictions_686kh6b7/entityTypes/user_id/operations/2078718885128830976\n",
      "EntityType created. Resource name: projects/63372408652/locations/us-central1/featurestores/orders_predictions_686kh6b7/entityTypes/user_id\n",
      "To use this EntityType in another session:\n",
      "entity_type = aiplatform.EntityType('projects/63372408652/locations/us-central1/featurestores/orders_predictions_686kh6b7/entityTypes/user_id')\n"
     ]
    }
   ],
   "source": [
    "user_entity_type = orders_predictions_feature_store.create_entity_type(\n",
    "    entity_type_id=\"user_id\",\n",
    "    description=\"users entity\"\n",
    ")"
   ]
  },
  {
   "cell_type": "code",
   "execution_count": 76,
   "id": "a122ebba-9f6d-4ff0-924b-bc8796548b34",
   "metadata": {},
   "outputs": [
    {
     "name": "stdout",
     "output_type": "stream",
     "text": [
      "Batch creating features EntityType entityType: projects/63372408652/locations/us-central1/featurestores/orders_predictions_686kh6b7/entityTypes/user_id\n",
      "Batch create Features EntityType entityType backing LRO: projects/63372408652/locations/us-central1/featurestores/orders_predictions_686kh6b7/entityTypes/user_id/operations/1910959799009280000\n",
      "EntityType entityType Batch created features. Resource name: projects/63372408652/locations/us-central1/featurestores/orders_predictions_686kh6b7/entityTypes/user_id\n"
     ]
    }
   ],
   "source": [
    "num_features = 10\n",
    "\n",
    "features_bucket =  {f'f{feature}' : {\"value_type\" : \"DOUBLE\"} for feature in range(num_features)}\n",
    "\n",
    "orders_features = user_entity_type.batch_create_features(\n",
    "    feature_configs=features_bucket,\n",
    ")"
   ]
  },
  {
   "cell_type": "code",
   "execution_count": 79,
   "id": "bf08586e-a68a-4c8a-9fb7-95fe0560ceea",
   "metadata": {},
   "outputs": [],
   "source": [
    "# Initialize the Vertex SDK for Python\n",
    "aiplatform.init(project=PROJECT_ID, location=REGION)\n",
    "\n",
    "# Get the entity type from an existing Featurestore\n",
    "user_entity_type = aiplatform.featurestore.EntityType(entity_type_name=\"user_id\",\n",
    "                                                 featurestore_id=\"orders_predictions_686kh6b7\")"
   ]
  },
  {
   "cell_type": "code",
   "execution_count": 82,
   "id": "1cd1396c-dd5f-4c2e-8ba4-250994ad09e9",
   "metadata": {},
   "outputs": [
    {
     "name": "stdout",
     "output_type": "stream",
     "text": [
      "Batch creating features EntityType entityType: projects/63372408652/locations/us-central1/featurestores/orders_predictions_686kh6b7/entityTypes/user_id\n",
      "Batch create Features EntityType entityType backing LRO: projects/63372408652/locations/us-central1/featurestores/orders_predictions_686kh6b7/entityTypes/user_id/operations/88127849831071744\n",
      "EntityType entityType Batch created features. Resource name: projects/63372408652/locations/us-central1/featurestores/orders_predictions_686kh6b7/entityTypes/user_id\n"
     ]
    }
   ],
   "source": [
    "orders_feature_configs = {\n",
    "    \"y\": {\n",
    "        \"value_type\": \"DOUBLE\",\n",
    "        \"description\": \"Target\",\n",
    "    },\n",
    "#     \"f0\": {\n",
    "#         \"value_type\": \"DOUBLE\",\n",
    "#         \"description\": \"Feature\",\n",
    "#     },\n",
    "#     \"f1\": {\n",
    "#         \"value_type\": \"DOUBLE\",\n",
    "#         \"description\": \"Feature\",\n",
    "#     },\n",
    "#     \"f2\": {\n",
    "#         \"value_type\": \"DOUBLE\",\n",
    "#         \"description\": \"Feature\",\n",
    "#     },\n",
    "#     \"f3\": {\n",
    "#         \"value_type\": \"DOUBLE\",\n",
    "#         \"description\": \"Feature\",\n",
    "#     },\n",
    "#     \"f4\": {\n",
    "#         \"value_type\": \"DOUBLE\",\n",
    "#         \"description\": \"Feature\",\n",
    "#     },\n",
    "#     \"f5\": {\n",
    "#         \"value_type\": \"DOUBLE\",\n",
    "#         \"description\": \"Feature\",\n",
    "#     },\n",
    "#     \"f6\": {\n",
    "#         \"value_type\": \"DOUBLE\",\n",
    "#         \"description\": \"Feature\",\n",
    "#     },\n",
    "#     \"f7\": {\n",
    "#         \"value_type\": \"DOUBLE\",\n",
    "#         \"description\": \"Feature\",\n",
    "#     },\n",
    "#     \"f8\": {\n",
    "#         \"value_type\": \"DOUBLE\",\n",
    "#         \"description\": \"Feature\",\n",
    "#     },\n",
    "#     \"f9\": {\n",
    "#         \"value_type\": \"DOUBLE\",\n",
    "#         \"description\": \"Feature\",\n",
    "#     },\n",
    "}        \n",
    "        \n",
    "orders_features = user_entity_type.batch_create_features(\n",
    "    feature_configs=orders_feature_configs,\n",
    ")"
   ]
  },
  {
   "cell_type": "code",
   "execution_count": 83,
   "id": "7952ecfb-49a7-4bfa-926c-a584480ff282",
   "metadata": {},
   "outputs": [
    {
     "name": "stdout",
     "output_type": "stream",
     "text": [
      "Received datetime-like column in the dataframe. Please note that the column could be interpreted differently in BigQuery depending on which major version you are using. For more information, please reference the BigQuery v3 release notes here: https://github.com/googleapis/python-bigquery/releases/tag/v3.0.0\n",
      "Importing EntityType feature values: projects/63372408652/locations/us-central1/featurestores/orders_predictions_686kh6b7/entityTypes/user_id\n",
      "Import EntityType feature values backing LRO: projects/63372408652/locations/us-central1/featurestores/orders_predictions_686kh6b7/entityTypes/user_id/operations/5724382783485247488\n",
      "EntityType feature values imported. Resource name: projects/63372408652/locations/us-central1/featurestores/orders_predictions_686kh6b7/entityTypes/user_id\n"
     ]
    },
    {
     "data": {
      "text/plain": [
       "<google.cloud.aiplatform.featurestore.entity_type.EntityType object at 0x7f5dc455c350> \n",
       "resource name: projects/63372408652/locations/us-central1/featurestores/orders_predictions_686kh6b7/entityTypes/user_id"
      ]
     },
     "execution_count": 83,
     "metadata": {},
     "output_type": "execute_result"
    }
   ],
   "source": [
    "ORDERS_FEATURES_IDS = list(orders_feature_configs.keys())\n",
    "FEATURE_TIME = \"timestamp\"\n",
    "USERS_ENTITY_ID_FIELD = 'user_id'\n",
    "\n",
    "user_entity_type.ingest_from_df(\n",
    "    feature_ids=ORDERS_FEATURES_IDS,\n",
    "    feature_time=FEATURE_TIME,\n",
    "    df_source=all_dd,\n",
    "    entity_id_field=USERS_ENTITY_ID_FIELD\n",
    ")"
   ]
  },
  {
   "cell_type": "code",
   "execution_count": 103,
   "id": "2ddd5ae0-120d-40b2-8f74-c3b75fa77dda",
   "metadata": {},
   "outputs": [
    {
     "data": {
      "text/plain": [
       "['f0', 'f1', 'f2', 'f3', 'f4', 'f5', 'f6', 'f7', 'f8', 'f9']"
      ]
     },
     "execution_count": 103,
     "metadata": {},
     "output_type": "execute_result"
    }
   ],
   "source": [
    "ORDERS_FEATURES_IDS"
   ]
  },
  {
   "cell_type": "code",
   "execution_count": 90,
   "id": "94a3d848-3ac4-4030-b4b7-1c64305a66f7",
   "metadata": {},
   "outputs": [],
   "source": [
    "df_entity = pd.read_parquet('entity.parquet')\n",
    "df_entity[\"timestamp\"] = pd.to_datetime(df_entity[\"timestamp\"], format='%Y-%m-%dT%H:%M:%S.%fZ', utc=True)\n",
    "df_entity[\"x\"] = pd.to_datetime(df_entity[\"timestamp\"], format='%Y-%m-%dT%H:%M:%S.%fZ', utc=True)\n",
    "df_entity.drop(\"x\", axis=1, inplace=True)"
   ]
  },
  {
   "cell_type": "code",
   "execution_count": 91,
   "id": "3f3d4e35-d861-49c2-a76a-565776c7fcb3",
   "metadata": {},
   "outputs": [
    {
     "name": "stdout",
     "output_type": "stream",
     "text": [
      "Serving Featurestore feature values: projects/63372408652/locations/us-central1/featurestores/orders_predictions_686kh6b7\n",
      "Serve Featurestore feature values backing LRO: projects/63372408652/locations/us-central1/featurestores/orders_predictions_686kh6b7/operations/117964197362401280\n",
      "Featurestore feature values served. Resource name: projects/63372408652/locations/us-central1/featurestores/orders_predictions_686kh6b7\n"
     ]
    },
    {
     "data": {
      "text/html": [
       "<div>\n",
       "<style scoped>\n",
       "    .dataframe tbody tr th:only-of-type {\n",
       "        vertical-align: middle;\n",
       "    }\n",
       "\n",
       "    .dataframe tbody tr th {\n",
       "        vertical-align: top;\n",
       "    }\n",
       "\n",
       "    .dataframe thead th {\n",
       "        text-align: right;\n",
       "    }\n",
       "</style>\n",
       "<table border=\"1\" class=\"dataframe\">\n",
       "  <thead>\n",
       "    <tr style=\"text-align: right;\">\n",
       "      <th></th>\n",
       "      <th>timestamp</th>\n",
       "      <th>entity_type_user_id</th>\n",
       "      <th>f4</th>\n",
       "      <th>f0</th>\n",
       "      <th>f8</th>\n",
       "      <th>y</th>\n",
       "      <th>f6</th>\n",
       "      <th>f2</th>\n",
       "      <th>f5</th>\n",
       "      <th>f1</th>\n",
       "      <th>f9</th>\n",
       "      <th>f7</th>\n",
       "      <th>f3</th>\n",
       "    </tr>\n",
       "  </thead>\n",
       "  <tbody>\n",
       "    <tr>\n",
       "      <th>0</th>\n",
       "      <td>2023-11-09 00:12:48+00:00</td>\n",
       "      <td>815</td>\n",
       "      <td>NaN</td>\n",
       "      <td>NaN</td>\n",
       "      <td>NaN</td>\n",
       "      <td>NaN</td>\n",
       "      <td>NaN</td>\n",
       "      <td>NaN</td>\n",
       "      <td>NaN</td>\n",
       "      <td>NaN</td>\n",
       "      <td>NaN</td>\n",
       "      <td>NaN</td>\n",
       "      <td>NaN</td>\n",
       "    </tr>\n",
       "    <tr>\n",
       "      <th>1</th>\n",
       "      <td>2023-11-09 21:40:24+00:00</td>\n",
       "      <td>642</td>\n",
       "      <td>NaN</td>\n",
       "      <td>NaN</td>\n",
       "      <td>NaN</td>\n",
       "      <td>NaN</td>\n",
       "      <td>NaN</td>\n",
       "      <td>NaN</td>\n",
       "      <td>NaN</td>\n",
       "      <td>NaN</td>\n",
       "      <td>NaN</td>\n",
       "      <td>NaN</td>\n",
       "      <td>NaN</td>\n",
       "    </tr>\n",
       "    <tr>\n",
       "      <th>2</th>\n",
       "      <td>2023-11-09 19:10:36+00:00</td>\n",
       "      <td>883</td>\n",
       "      <td>NaN</td>\n",
       "      <td>NaN</td>\n",
       "      <td>NaN</td>\n",
       "      <td>NaN</td>\n",
       "      <td>NaN</td>\n",
       "      <td>NaN</td>\n",
       "      <td>NaN</td>\n",
       "      <td>NaN</td>\n",
       "      <td>NaN</td>\n",
       "      <td>NaN</td>\n",
       "      <td>NaN</td>\n",
       "    </tr>\n",
       "    <tr>\n",
       "      <th>3</th>\n",
       "      <td>2023-11-09 20:01:48+00:00</td>\n",
       "      <td>209</td>\n",
       "      <td>NaN</td>\n",
       "      <td>NaN</td>\n",
       "      <td>NaN</td>\n",
       "      <td>NaN</td>\n",
       "      <td>NaN</td>\n",
       "      <td>NaN</td>\n",
       "      <td>NaN</td>\n",
       "      <td>NaN</td>\n",
       "      <td>NaN</td>\n",
       "      <td>NaN</td>\n",
       "      <td>NaN</td>\n",
       "    </tr>\n",
       "    <tr>\n",
       "      <th>4</th>\n",
       "      <td>2023-11-09 12:03:56+00:00</td>\n",
       "      <td>880</td>\n",
       "      <td>NaN</td>\n",
       "      <td>NaN</td>\n",
       "      <td>NaN</td>\n",
       "      <td>NaN</td>\n",
       "      <td>NaN</td>\n",
       "      <td>NaN</td>\n",
       "      <td>NaN</td>\n",
       "      <td>NaN</td>\n",
       "      <td>NaN</td>\n",
       "      <td>NaN</td>\n",
       "      <td>NaN</td>\n",
       "    </tr>\n",
       "  </tbody>\n",
       "</table>\n",
       "</div>"
      ],
      "text/plain": [
       "                  timestamp entity_type_user_id  f4  f0  f8   y  f6  f2  f5  \\\n",
       "0 2023-11-09 00:12:48+00:00                 815 NaN NaN NaN NaN NaN NaN NaN   \n",
       "1 2023-11-09 21:40:24+00:00                 642 NaN NaN NaN NaN NaN NaN NaN   \n",
       "2 2023-11-09 19:10:36+00:00                 883 NaN NaN NaN NaN NaN NaN NaN   \n",
       "3 2023-11-09 20:01:48+00:00                 209 NaN NaN NaN NaN NaN NaN NaN   \n",
       "4 2023-11-09 12:03:56+00:00                 880 NaN NaN NaN NaN NaN NaN NaN   \n",
       "\n",
       "   f1  f9  f7  f3  \n",
       "0 NaN NaN NaN NaN  \n",
       "1 NaN NaN NaN NaN  \n",
       "2 NaN NaN NaN NaN  \n",
       "3 NaN NaN NaN NaN  \n",
       "4 NaN NaN NaN NaN  "
      ]
     },
     "execution_count": 91,
     "metadata": {},
     "output_type": "execute_result"
    }
   ],
   "source": [
    "df = orders_predictions_feature_store.batch_serve_to_df(\n",
    "    serving_feature_ids={\"user_id\": [\"*\"]},\n",
    "    read_instances_df=df_entity\n",
    ")\n",
    "\n",
    "df.head()"
   ]
  },
  {
   "cell_type": "code",
   "execution_count": 66,
   "id": "8ea4c117-5de0-4578-886e-f83f9b4df05e",
   "metadata": {},
   "outputs": [
    {
     "data": {
      "text/html": [
       "<div>\n",
       "<style scoped>\n",
       "    .dataframe tbody tr th:only-of-type {\n",
       "        vertical-align: middle;\n",
       "    }\n",
       "\n",
       "    .dataframe tbody tr th {\n",
       "        vertical-align: top;\n",
       "    }\n",
       "\n",
       "    .dataframe thead th {\n",
       "        text-align: right;\n",
       "    }\n",
       "</style>\n",
       "<table border=\"1\" class=\"dataframe\">\n",
       "  <thead>\n",
       "    <tr style=\"text-align: right;\">\n",
       "      <th></th>\n",
       "      <th>entity_id</th>\n",
       "      <th>y</th>\n",
       "      <th>f7</th>\n",
       "      <th>f5</th>\n",
       "      <th>f8</th>\n",
       "      <th>f4</th>\n",
       "      <th>f2</th>\n",
       "      <th>f1</th>\n",
       "      <th>f0</th>\n",
       "      <th>f3</th>\n",
       "      <th>f9</th>\n",
       "      <th>f6</th>\n",
       "    </tr>\n",
       "  </thead>\n",
       "  <tbody>\n",
       "    <tr>\n",
       "      <th>0</th>\n",
       "      <td>202</td>\n",
       "      <td>None</td>\n",
       "      <td>None</td>\n",
       "      <td>None</td>\n",
       "      <td>None</td>\n",
       "      <td>None</td>\n",
       "      <td>None</td>\n",
       "      <td>None</td>\n",
       "      <td>None</td>\n",
       "      <td>None</td>\n",
       "      <td>None</td>\n",
       "      <td>None</td>\n",
       "    </tr>\n",
       "  </tbody>\n",
       "</table>\n",
       "</div>"
      ],
      "text/plain": [
       "  entity_id     y    f7    f5    f8    f4    f2    f1    f0    f3    f9    f6\n",
       "0       202  None  None  None  None  None  None  None  None  None  None  None"
      ]
     },
     "execution_count": 66,
     "metadata": {},
     "output_type": "execute_result"
    }
   ],
   "source": [
    "user_entity_type.read(entity_ids=\"202\")"
   ]
  },
  {
   "cell_type": "code",
   "execution_count": 40,
   "id": "a06031da-2d63-444b-91d8-82d5c0581248",
   "metadata": {},
   "outputs": [
    {
     "data": {
      "text/html": [
       "<div>\n",
       "<style scoped>\n",
       "    .dataframe tbody tr th:only-of-type {\n",
       "        vertical-align: middle;\n",
       "    }\n",
       "\n",
       "    .dataframe tbody tr th {\n",
       "        vertical-align: top;\n",
       "    }\n",
       "\n",
       "    .dataframe thead th {\n",
       "        text-align: right;\n",
       "    }\n",
       "</style>\n",
       "<table border=\"1\" class=\"dataframe\">\n",
       "  <thead>\n",
       "    <tr style=\"text-align: right;\">\n",
       "      <th></th>\n",
       "      <th>timestamp</th>\n",
       "      <th>entity_type_user_id</th>\n",
       "      <th>f1</th>\n",
       "      <th>f0</th>\n",
       "    </tr>\n",
       "  </thead>\n",
       "  <tbody>\n",
       "    <tr>\n",
       "      <th>0</th>\n",
       "      <td>2023-05-13 21:24:16+00:00</td>\n",
       "      <td>382452</td>\n",
       "      <td>NaN</td>\n",
       "      <td>NaN</td>\n",
       "    </tr>\n",
       "    <tr>\n",
       "      <th>1</th>\n",
       "      <td>2023-05-13 21:24:16+00:00</td>\n",
       "      <td>437239</td>\n",
       "      <td>NaN</td>\n",
       "      <td>NaN</td>\n",
       "    </tr>\n",
       "    <tr>\n",
       "      <th>2</th>\n",
       "      <td>2023-05-13 21:24:16+00:00</td>\n",
       "      <td>150932</td>\n",
       "      <td>NaN</td>\n",
       "      <td>NaN</td>\n",
       "    </tr>\n",
       "    <tr>\n",
       "      <th>3</th>\n",
       "      <td>2023-05-13 21:24:16+00:00</td>\n",
       "      <td>249094</td>\n",
       "      <td>NaN</td>\n",
       "      <td>NaN</td>\n",
       "    </tr>\n",
       "    <tr>\n",
       "      <th>4</th>\n",
       "      <td>2023-05-13 21:24:16+00:00</td>\n",
       "      <td>237176</td>\n",
       "      <td>NaN</td>\n",
       "      <td>NaN</td>\n",
       "    </tr>\n",
       "    <tr>\n",
       "      <th>...</th>\n",
       "      <td>...</td>\n",
       "      <td>...</td>\n",
       "      <td>...</td>\n",
       "      <td>...</td>\n",
       "    </tr>\n",
       "    <tr>\n",
       "      <th>999995</th>\n",
       "      <td>2023-05-13 18:28:23+00:00</td>\n",
       "      <td>921633</td>\n",
       "      <td>NaN</td>\n",
       "      <td>NaN</td>\n",
       "    </tr>\n",
       "    <tr>\n",
       "      <th>999996</th>\n",
       "      <td>2023-05-13 18:28:23+00:00</td>\n",
       "      <td>153024</td>\n",
       "      <td>NaN</td>\n",
       "      <td>NaN</td>\n",
       "    </tr>\n",
       "    <tr>\n",
       "      <th>999997</th>\n",
       "      <td>2023-05-13 18:28:23+00:00</td>\n",
       "      <td>190258</td>\n",
       "      <td>NaN</td>\n",
       "      <td>NaN</td>\n",
       "    </tr>\n",
       "    <tr>\n",
       "      <th>999998</th>\n",
       "      <td>2023-05-13 18:28:23+00:00</td>\n",
       "      <td>333537</td>\n",
       "      <td>NaN</td>\n",
       "      <td>NaN</td>\n",
       "    </tr>\n",
       "    <tr>\n",
       "      <th>999999</th>\n",
       "      <td>2023-05-13 18:28:23+00:00</td>\n",
       "      <td>577958</td>\n",
       "      <td>NaN</td>\n",
       "      <td>NaN</td>\n",
       "    </tr>\n",
       "  </tbody>\n",
       "</table>\n",
       "<p>1000000 rows × 4 columns</p>\n",
       "</div>"
      ],
      "text/plain": [
       "                       timestamp entity_type_user_id  f1  f0\n",
       "0      2023-05-13 21:24:16+00:00              382452 NaN NaN\n",
       "1      2023-05-13 21:24:16+00:00              437239 NaN NaN\n",
       "2      2023-05-13 21:24:16+00:00              150932 NaN NaN\n",
       "3      2023-05-13 21:24:16+00:00              249094 NaN NaN\n",
       "4      2023-05-13 21:24:16+00:00              237176 NaN NaN\n",
       "...                          ...                 ...  ..  ..\n",
       "999995 2023-05-13 18:28:23+00:00              921633 NaN NaN\n",
       "999996 2023-05-13 18:28:23+00:00              153024 NaN NaN\n",
       "999997 2023-05-13 18:28:23+00:00              190258 NaN NaN\n",
       "999998 2023-05-13 18:28:23+00:00              333537 NaN NaN\n",
       "999999 2023-05-13 18:28:23+00:00              577958 NaN NaN\n",
       "\n",
       "[1000000 rows x 4 columns]"
      ]
     },
     "execution_count": 40,
     "metadata": {},
     "output_type": "execute_result"
    }
   ],
   "source": [
    "df"
   ]
  },
  {
   "cell_type": "code",
   "execution_count": 120,
   "id": "3c0184a2-623a-47ca-a812-4b2183f64836",
   "metadata": {},
   "outputs": [
    {
     "name": "stderr",
     "output_type": "stream",
     "text": [
      "100%|██████████| 1/1 [00:00<00:00, 10330.80it/s]\n"
     ]
    }
   ],
   "source": [
    "from google.cloud import bigquery\n",
    "client = bigquery.Client()\n",
    "\n",
    "table_id = \"vertex-fs.offline.data\"\n",
    "\n",
    "import pandas_gbq\n",
    "\n",
    "pandas_gbq.to_gbq(all_dd, table_id, project_id=\"vertex-fs\",location=\"europe-west4\")"
   ]
  },
  {
   "cell_type": "code",
   "execution_count": 47,
   "id": "b5a13f2e-a414-49aa-91d3-b047abd10694",
   "metadata": {},
   "outputs": [
    {
     "name": "stdout",
     "output_type": "stream",
     "text": [
      "Importing EntityType feature values: projects/63372408652/locations/europe-west4/featurestores/fs_6jfhf7c/entityTypes/user_id\n"
     ]
    },
    {
     "ename": "NotFound",
     "evalue": "404 Feature(s) `f8, f6, f2, f4, f3, y, f7, f5, f9` do not exist under the EntityType `user_id`.",
     "output_type": "error",
     "traceback": [
      "\u001b[0;31m---------------------------------------------------------------------------\u001b[0m",
      "\u001b[0;31m_InactiveRpcError\u001b[0m                         Traceback (most recent call last)",
      "\u001b[0;32m/opt/conda/lib/python3.7/site-packages/google/api_core/grpc_helpers.py\u001b[0m in \u001b[0;36merror_remapped_callable\u001b[0;34m(*args, **kwargs)\u001b[0m\n\u001b[1;32m     71\u001b[0m         \u001b[0;32mtry\u001b[0m\u001b[0;34m:\u001b[0m\u001b[0;34m\u001b[0m\u001b[0;34m\u001b[0m\u001b[0m\n\u001b[0;32m---> 72\u001b[0;31m             \u001b[0;32mreturn\u001b[0m \u001b[0mcallable_\u001b[0m\u001b[0;34m(\u001b[0m\u001b[0;34m*\u001b[0m\u001b[0margs\u001b[0m\u001b[0;34m,\u001b[0m \u001b[0;34m**\u001b[0m\u001b[0mkwargs\u001b[0m\u001b[0;34m)\u001b[0m\u001b[0;34m\u001b[0m\u001b[0;34m\u001b[0m\u001b[0m\n\u001b[0m\u001b[1;32m     73\u001b[0m         \u001b[0;32mexcept\u001b[0m \u001b[0mgrpc\u001b[0m\u001b[0;34m.\u001b[0m\u001b[0mRpcError\u001b[0m \u001b[0;32mas\u001b[0m \u001b[0mexc\u001b[0m\u001b[0;34m:\u001b[0m\u001b[0;34m\u001b[0m\u001b[0;34m\u001b[0m\u001b[0m\n",
      "\u001b[0;32m/opt/conda/lib/python3.7/site-packages/grpc/_channel.py\u001b[0m in \u001b[0;36m__call__\u001b[0;34m(self, request, timeout, metadata, credentials, wait_for_ready, compression)\u001b[0m\n\u001b[1;32m   1029\u001b[0m                                       wait_for_ready, compression)\n\u001b[0;32m-> 1030\u001b[0;31m         \u001b[0;32mreturn\u001b[0m \u001b[0m_end_unary_response_blocking\u001b[0m\u001b[0;34m(\u001b[0m\u001b[0mstate\u001b[0m\u001b[0;34m,\u001b[0m \u001b[0mcall\u001b[0m\u001b[0;34m,\u001b[0m \u001b[0;32mFalse\u001b[0m\u001b[0;34m,\u001b[0m \u001b[0;32mNone\u001b[0m\u001b[0;34m)\u001b[0m\u001b[0;34m\u001b[0m\u001b[0;34m\u001b[0m\u001b[0m\n\u001b[0m\u001b[1;32m   1031\u001b[0m \u001b[0;34m\u001b[0m\u001b[0m\n",
      "\u001b[0;32m/opt/conda/lib/python3.7/site-packages/grpc/_channel.py\u001b[0m in \u001b[0;36m_end_unary_response_blocking\u001b[0;34m(state, call, with_call, deadline)\u001b[0m\n\u001b[1;32m    909\u001b[0m     \u001b[0;32melse\u001b[0m\u001b[0;34m:\u001b[0m\u001b[0;34m\u001b[0m\u001b[0;34m\u001b[0m\u001b[0m\n\u001b[0;32m--> 910\u001b[0;31m         \u001b[0;32mraise\u001b[0m \u001b[0m_InactiveRpcError\u001b[0m\u001b[0;34m(\u001b[0m\u001b[0mstate\u001b[0m\u001b[0;34m)\u001b[0m  \u001b[0;31m# pytype: disable=not-instantiable\u001b[0m\u001b[0;34m\u001b[0m\u001b[0;34m\u001b[0m\u001b[0m\n\u001b[0m\u001b[1;32m    911\u001b[0m \u001b[0;34m\u001b[0m\u001b[0m\n",
      "\u001b[0;31m_InactiveRpcError\u001b[0m: <_InactiveRpcError of RPC that terminated with:\n\tstatus = StatusCode.NOT_FOUND\n\tdetails = \"Feature(s) `f8, f6, f2, f4, f3, y, f7, f5, f9` do not exist under the EntityType `user_id`.\"\n\tdebug_error_string = \"UNKNOWN:Error received from peer ipv4:108.177.96.95:443 {created_time:\"2023-04-21T09:10:54.560658556+00:00\", grpc_status:5, grpc_message:\"Feature(s) `f8, f6, f2, f4, f3, y, f7, f5, f9` do not exist under the EntityType `user_id`.\"}\"\n>",
      "\nThe above exception was the direct cause of the following exception:\n",
      "\u001b[0;31mNotFound\u001b[0m                                  Traceback (most recent call last)",
      "\u001b[0;32m/var/tmp/ipykernel_2755/2298208801.py\u001b[0m in \u001b[0;36m<module>\u001b[0;34m\u001b[0m\n\u001b[1;32m     17\u001b[0m     \u001b[0mdisable_online_serving\u001b[0m\u001b[0;34m=\u001b[0m\u001b[0;32mFalse\u001b[0m\u001b[0;34m,\u001b[0m\u001b[0;34m\u001b[0m\u001b[0;34m\u001b[0m\u001b[0m\n\u001b[1;32m     18\u001b[0m     \u001b[0mworker_count\u001b[0m\u001b[0;34m=\u001b[0m\u001b[0;36m10\u001b[0m\u001b[0;34m,\u001b[0m\u001b[0;34m\u001b[0m\u001b[0;34m\u001b[0m\u001b[0m\n\u001b[0;32m---> 19\u001b[0;31m     \u001b[0msync\u001b[0m\u001b[0;34m=\u001b[0m\u001b[0;32mTrue\u001b[0m\u001b[0;34m,\u001b[0m\u001b[0;34m\u001b[0m\u001b[0;34m\u001b[0m\u001b[0m\n\u001b[0m\u001b[1;32m     20\u001b[0m )\n",
      "\u001b[0;32m/opt/conda/lib/python3.7/site-packages/google/cloud/aiplatform/base.py\u001b[0m in \u001b[0;36mwrapper\u001b[0;34m(*args, **kwargs)\u001b[0m\n\u001b[1;32m    808\u001b[0m                 \u001b[0;32mif\u001b[0m \u001b[0mself\u001b[0m\u001b[0;34m:\u001b[0m\u001b[0;34m\u001b[0m\u001b[0;34m\u001b[0m\u001b[0m\n\u001b[1;32m    809\u001b[0m                     \u001b[0mVertexAiResourceNounWithFutureManager\u001b[0m\u001b[0;34m.\u001b[0m\u001b[0mwait\u001b[0m\u001b[0;34m(\u001b[0m\u001b[0mself\u001b[0m\u001b[0;34m)\u001b[0m\u001b[0;34m\u001b[0m\u001b[0;34m\u001b[0m\u001b[0m\n\u001b[0;32m--> 810\u001b[0;31m                 \u001b[0;32mreturn\u001b[0m \u001b[0mmethod\u001b[0m\u001b[0;34m(\u001b[0m\u001b[0;34m*\u001b[0m\u001b[0margs\u001b[0m\u001b[0;34m,\u001b[0m \u001b[0;34m**\u001b[0m\u001b[0mkwargs\u001b[0m\u001b[0;34m)\u001b[0m\u001b[0;34m\u001b[0m\u001b[0;34m\u001b[0m\u001b[0m\n\u001b[0m\u001b[1;32m    811\u001b[0m \u001b[0;34m\u001b[0m\u001b[0m\n\u001b[1;32m    812\u001b[0m             \u001b[0;31m# callbacks to call within the Future (in same Thread)\u001b[0m\u001b[0;34m\u001b[0m\u001b[0;34m\u001b[0m\u001b[0;34m\u001b[0m\u001b[0m\n",
      "\u001b[0;32m/opt/conda/lib/python3.7/site-packages/google/cloud/aiplatform/featurestore/_entity_type.py\u001b[0m in \u001b[0;36mingest_from_bq\u001b[0;34m(self, feature_ids, feature_time, bq_source_uri, feature_source_fields, entity_id_field, disable_online_serving, worker_count, request_metadata, sync, ingest_request_timeout)\u001b[0m\n\u001b[1;32m   1070\u001b[0m             \u001b[0mimport_feature_values_request\u001b[0m\u001b[0;34m=\u001b[0m\u001b[0mimport_feature_values_request\u001b[0m\u001b[0;34m,\u001b[0m\u001b[0;34m\u001b[0m\u001b[0;34m\u001b[0m\u001b[0m\n\u001b[1;32m   1071\u001b[0m             \u001b[0mrequest_metadata\u001b[0m\u001b[0;34m=\u001b[0m\u001b[0mrequest_metadata\u001b[0m\u001b[0;34m,\u001b[0m\u001b[0;34m\u001b[0m\u001b[0;34m\u001b[0m\u001b[0m\n\u001b[0;32m-> 1072\u001b[0;31m             \u001b[0mingest_request_timeout\u001b[0m\u001b[0;34m=\u001b[0m\u001b[0mingest_request_timeout\u001b[0m\u001b[0;34m,\u001b[0m\u001b[0;34m\u001b[0m\u001b[0;34m\u001b[0m\u001b[0m\n\u001b[0m\u001b[1;32m   1073\u001b[0m         )\n\u001b[1;32m   1074\u001b[0m \u001b[0;34m\u001b[0m\u001b[0m\n",
      "\u001b[0;32m/opt/conda/lib/python3.7/site-packages/google/cloud/aiplatform/featurestore/_entity_type.py\u001b[0m in \u001b[0;36m_import_feature_values\u001b[0;34m(self, import_feature_values_request, request_metadata, ingest_request_timeout)\u001b[0m\n\u001b[1;32m    955\u001b[0m             \u001b[0mrequest\u001b[0m\u001b[0;34m=\u001b[0m\u001b[0mimport_feature_values_request\u001b[0m\u001b[0;34m,\u001b[0m\u001b[0;34m\u001b[0m\u001b[0;34m\u001b[0m\u001b[0m\n\u001b[1;32m    956\u001b[0m             \u001b[0mmetadata\u001b[0m\u001b[0;34m=\u001b[0m\u001b[0mrequest_metadata\u001b[0m\u001b[0;34m,\u001b[0m\u001b[0;34m\u001b[0m\u001b[0;34m\u001b[0m\u001b[0m\n\u001b[0;32m--> 957\u001b[0;31m             \u001b[0mtimeout\u001b[0m\u001b[0;34m=\u001b[0m\u001b[0mingest_request_timeout\u001b[0m\u001b[0;34m,\u001b[0m\u001b[0;34m\u001b[0m\u001b[0;34m\u001b[0m\u001b[0m\n\u001b[0m\u001b[1;32m    958\u001b[0m         )\n\u001b[1;32m    959\u001b[0m \u001b[0;34m\u001b[0m\u001b[0m\n",
      "\u001b[0;32m/opt/conda/lib/python3.7/site-packages/google/cloud/aiplatform_v1/services/featurestore_service/client.py\u001b[0m in \u001b[0;36mimport_feature_values\u001b[0;34m(self, request, entity_type, retry, timeout, metadata)\u001b[0m\n\u001b[1;32m   2736\u001b[0m             \u001b[0mretry\u001b[0m\u001b[0;34m=\u001b[0m\u001b[0mretry\u001b[0m\u001b[0;34m,\u001b[0m\u001b[0;34m\u001b[0m\u001b[0;34m\u001b[0m\u001b[0m\n\u001b[1;32m   2737\u001b[0m             \u001b[0mtimeout\u001b[0m\u001b[0;34m=\u001b[0m\u001b[0mtimeout\u001b[0m\u001b[0;34m,\u001b[0m\u001b[0;34m\u001b[0m\u001b[0;34m\u001b[0m\u001b[0m\n\u001b[0;32m-> 2738\u001b[0;31m             \u001b[0mmetadata\u001b[0m\u001b[0;34m=\u001b[0m\u001b[0mmetadata\u001b[0m\u001b[0;34m,\u001b[0m\u001b[0;34m\u001b[0m\u001b[0;34m\u001b[0m\u001b[0m\n\u001b[0m\u001b[1;32m   2739\u001b[0m         )\n\u001b[1;32m   2740\u001b[0m \u001b[0;34m\u001b[0m\u001b[0m\n",
      "\u001b[0;32m/opt/conda/lib/python3.7/site-packages/google/api_core/gapic_v1/method.py\u001b[0m in \u001b[0;36m__call__\u001b[0;34m(self, timeout, retry, *args, **kwargs)\u001b[0m\n\u001b[1;32m    111\u001b[0m             \u001b[0mkwargs\u001b[0m\u001b[0;34m[\u001b[0m\u001b[0;34m\"metadata\"\u001b[0m\u001b[0;34m]\u001b[0m \u001b[0;34m=\u001b[0m \u001b[0mmetadata\u001b[0m\u001b[0;34m\u001b[0m\u001b[0;34m\u001b[0m\u001b[0m\n\u001b[1;32m    112\u001b[0m \u001b[0;34m\u001b[0m\u001b[0m\n\u001b[0;32m--> 113\u001b[0;31m         \u001b[0;32mreturn\u001b[0m \u001b[0mwrapped_func\u001b[0m\u001b[0;34m(\u001b[0m\u001b[0;34m*\u001b[0m\u001b[0margs\u001b[0m\u001b[0;34m,\u001b[0m \u001b[0;34m**\u001b[0m\u001b[0mkwargs\u001b[0m\u001b[0;34m)\u001b[0m\u001b[0;34m\u001b[0m\u001b[0;34m\u001b[0m\u001b[0m\n\u001b[0m\u001b[1;32m    114\u001b[0m \u001b[0;34m\u001b[0m\u001b[0m\n\u001b[1;32m    115\u001b[0m \u001b[0;34m\u001b[0m\u001b[0m\n",
      "\u001b[0;32m/opt/conda/lib/python3.7/site-packages/google/api_core/grpc_helpers.py\u001b[0m in \u001b[0;36merror_remapped_callable\u001b[0;34m(*args, **kwargs)\u001b[0m\n\u001b[1;32m     72\u001b[0m             \u001b[0;32mreturn\u001b[0m \u001b[0mcallable_\u001b[0m\u001b[0;34m(\u001b[0m\u001b[0;34m*\u001b[0m\u001b[0margs\u001b[0m\u001b[0;34m,\u001b[0m \u001b[0;34m**\u001b[0m\u001b[0mkwargs\u001b[0m\u001b[0;34m)\u001b[0m\u001b[0;34m\u001b[0m\u001b[0;34m\u001b[0m\u001b[0m\n\u001b[1;32m     73\u001b[0m         \u001b[0;32mexcept\u001b[0m \u001b[0mgrpc\u001b[0m\u001b[0;34m.\u001b[0m\u001b[0mRpcError\u001b[0m \u001b[0;32mas\u001b[0m \u001b[0mexc\u001b[0m\u001b[0;34m:\u001b[0m\u001b[0;34m\u001b[0m\u001b[0;34m\u001b[0m\u001b[0m\n\u001b[0;32m---> 74\u001b[0;31m             \u001b[0;32mraise\u001b[0m \u001b[0mexceptions\u001b[0m\u001b[0;34m.\u001b[0m\u001b[0mfrom_grpc_error\u001b[0m\u001b[0;34m(\u001b[0m\u001b[0mexc\u001b[0m\u001b[0;34m)\u001b[0m \u001b[0;32mfrom\u001b[0m \u001b[0mexc\u001b[0m\u001b[0;34m\u001b[0m\u001b[0;34m\u001b[0m\u001b[0m\n\u001b[0m\u001b[1;32m     75\u001b[0m \u001b[0;34m\u001b[0m\u001b[0m\n\u001b[1;32m     76\u001b[0m     \u001b[0;32mreturn\u001b[0m \u001b[0merror_remapped_callable\u001b[0m\u001b[0;34m\u001b[0m\u001b[0;34m\u001b[0m\u001b[0m\n",
      "\u001b[0;31mNotFound\u001b[0m: 404 Feature(s) `f8, f6, f2, f4, f3, y, f7, f5, f9` do not exist under the EntityType `user_id`."
     ]
    }
   ],
   "source": [
    "# Initialize the Vertex SDK for Python\n",
    "aiplatform.init(project=PROJECT_ID, location=REGION)\n",
    "\n",
    "# Get the entity type from an existing Featurestore\n",
    "entity_type = aiplatform.featurestore.EntityType(entity_type_name=\"user_id\",\n",
    "                                                 featurestore_id=\"fs_6jfhf7c\")\n",
    "\n",
    "ORDERS_FEATURES_IDS = list(orders_feature_configs.keys())\n",
    "    \n",
    "FEATURE_TIME = \"timestamp\"\n",
    "\n",
    "entity_type.ingest_from_bq(\n",
    "     feature_ids=ORDERS_FEATURES_IDS,\n",
    "     feature_time=FEATURE_TIME,\n",
    "    bq_source_uri=\"bq://vertex-fs.offline.data\",\n",
    "     entity_id_field=\"user_id\",\n",
    "    disable_online_serving=False,\n",
    "    worker_count=10,\n",
    "    sync=True,\n",
    ")"
   ]
  },
  {
   "cell_type": "code",
   "execution_count": 11,
   "id": "567e65de-d609-4fb8-b276-cd047e600ff3",
   "metadata": {},
   "outputs": [],
   "source": [
    "sql = \"\"\"\n",
    "    SELECT user_id, timestamp\n",
    "    FROM `vertex-fs.offline.data`    \n",
    "\"\"\"\n",
    "\n",
    "df = pd.read_gbq(sql, project_id='vertex-fs', use_bqstorage_api=True)"
   ]
  },
  {
   "cell_type": "code",
   "execution_count": 13,
   "id": "18e03ecd-b184-404a-b2e2-918f1d45543c",
   "metadata": {},
   "outputs": [
    {
     "name": "stdout",
     "output_type": "stream",
     "text": [
      "<class 'pandas.core.frame.DataFrame'>\n",
      "RangeIndex: 1000000 entries, 0 to 999999\n",
      "Data columns (total 2 columns):\n",
      " #   Column     Non-Null Count    Dtype              \n",
      "---  ------     --------------    -----              \n",
      " 0   user_id    1000000 non-null  object             \n",
      " 1   timestamp  1000000 non-null  datetime64[ns, UTC]\n",
      "dtypes: datetime64[ns, UTC](1), object(1)\n",
      "memory usage: 15.3+ MB\n"
     ]
    }
   ],
   "source": [
    "df.info()"
   ]
  },
  {
   "cell_type": "code",
   "execution_count": 14,
   "id": "b3a8a90e-ccbe-40a9-a7e8-70489b82ebbe",
   "metadata": {},
   "outputs": [
    {
     "name": "stdout",
     "output_type": "stream",
     "text": [
      "Serving Featurestore feature values: projects/63372408652/locations/europe-west4/featurestores/fs_6jfhf7c\n",
      "Serve Featurestore feature values backing LRO: projects/63372408652/locations/europe-west4/featurestores/fs_6jfhf7c/operations/5623803514225426432\n",
      "Featurestore feature values served. Resource name: projects/63372408652/locations/europe-west4/featurestores/fs_6jfhf7c\n"
     ]
    }
   ],
   "source": [
    "df = orders_predictions_feature_store.batch_serve_to_df(\n",
    "    serving_feature_ids={\"user_id\": [\"*\"]},\n",
    "    read_instances_df=df\n",
    ")"
   ]
  },
  {
   "cell_type": "code",
   "execution_count": 15,
   "id": "57bbc23f-2943-4130-96f6-0322c4749a60",
   "metadata": {},
   "outputs": [
    {
     "data": {
      "text/html": [
       "<div>\n",
       "<style scoped>\n",
       "    .dataframe tbody tr th:only-of-type {\n",
       "        vertical-align: middle;\n",
       "    }\n",
       "\n",
       "    .dataframe tbody tr th {\n",
       "        vertical-align: top;\n",
       "    }\n",
       "\n",
       "    .dataframe thead th {\n",
       "        text-align: right;\n",
       "    }\n",
       "</style>\n",
       "<table border=\"1\" class=\"dataframe\">\n",
       "  <thead>\n",
       "    <tr style=\"text-align: right;\">\n",
       "      <th></th>\n",
       "      <th>timestamp</th>\n",
       "      <th>entity_type_user_id</th>\n",
       "      <th>f6</th>\n",
       "      <th>f2</th>\n",
       "      <th>f0</th>\n",
       "      <th>f8</th>\n",
       "      <th>f4</th>\n",
       "      <th>f7</th>\n",
       "      <th>f3</th>\n",
       "      <th>f1</th>\n",
       "      <th>f9</th>\n",
       "      <th>f5</th>\n",
       "    </tr>\n",
       "  </thead>\n",
       "  <tbody>\n",
       "    <tr>\n",
       "      <th>0</th>\n",
       "      <td>2023-10-06 12:39:28+00:00</td>\n",
       "      <td>591422</td>\n",
       "      <td>NaN</td>\n",
       "      <td>NaN</td>\n",
       "      <td>NaN</td>\n",
       "      <td>NaN</td>\n",
       "      <td>NaN</td>\n",
       "      <td>NaN</td>\n",
       "      <td>NaN</td>\n",
       "      <td>NaN</td>\n",
       "      <td>NaN</td>\n",
       "      <td>NaN</td>\n",
       "    </tr>\n",
       "    <tr>\n",
       "      <th>1</th>\n",
       "      <td>2023-10-06 12:39:28+00:00</td>\n",
       "      <td>177264</td>\n",
       "      <td>NaN</td>\n",
       "      <td>NaN</td>\n",
       "      <td>NaN</td>\n",
       "      <td>NaN</td>\n",
       "      <td>NaN</td>\n",
       "      <td>NaN</td>\n",
       "      <td>NaN</td>\n",
       "      <td>NaN</td>\n",
       "      <td>NaN</td>\n",
       "      <td>NaN</td>\n",
       "    </tr>\n",
       "    <tr>\n",
       "      <th>2</th>\n",
       "      <td>2023-10-06 12:39:28+00:00</td>\n",
       "      <td>167689</td>\n",
       "      <td>NaN</td>\n",
       "      <td>NaN</td>\n",
       "      <td>NaN</td>\n",
       "      <td>NaN</td>\n",
       "      <td>NaN</td>\n",
       "      <td>NaN</td>\n",
       "      <td>NaN</td>\n",
       "      <td>NaN</td>\n",
       "      <td>NaN</td>\n",
       "      <td>NaN</td>\n",
       "    </tr>\n",
       "    <tr>\n",
       "      <th>3</th>\n",
       "      <td>2023-10-06 12:39:28+00:00</td>\n",
       "      <td>508185</td>\n",
       "      <td>NaN</td>\n",
       "      <td>NaN</td>\n",
       "      <td>NaN</td>\n",
       "      <td>NaN</td>\n",
       "      <td>NaN</td>\n",
       "      <td>NaN</td>\n",
       "      <td>NaN</td>\n",
       "      <td>NaN</td>\n",
       "      <td>NaN</td>\n",
       "      <td>NaN</td>\n",
       "    </tr>\n",
       "    <tr>\n",
       "      <th>4</th>\n",
       "      <td>2023-10-06 12:39:28+00:00</td>\n",
       "      <td>241479</td>\n",
       "      <td>NaN</td>\n",
       "      <td>NaN</td>\n",
       "      <td>NaN</td>\n",
       "      <td>NaN</td>\n",
       "      <td>NaN</td>\n",
       "      <td>NaN</td>\n",
       "      <td>NaN</td>\n",
       "      <td>NaN</td>\n",
       "      <td>NaN</td>\n",
       "      <td>NaN</td>\n",
       "    </tr>\n",
       "    <tr>\n",
       "      <th>...</th>\n",
       "      <td>...</td>\n",
       "      <td>...</td>\n",
       "      <td>...</td>\n",
       "      <td>...</td>\n",
       "      <td>...</td>\n",
       "      <td>...</td>\n",
       "      <td>...</td>\n",
       "      <td>...</td>\n",
       "      <td>...</td>\n",
       "      <td>...</td>\n",
       "      <td>...</td>\n",
       "      <td>...</td>\n",
       "    </tr>\n",
       "    <tr>\n",
       "      <th>999995</th>\n",
       "      <td>2023-10-06 09:43:35+00:00</td>\n",
       "      <td>445741</td>\n",
       "      <td>NaN</td>\n",
       "      <td>NaN</td>\n",
       "      <td>NaN</td>\n",
       "      <td>NaN</td>\n",
       "      <td>NaN</td>\n",
       "      <td>NaN</td>\n",
       "      <td>NaN</td>\n",
       "      <td>NaN</td>\n",
       "      <td>NaN</td>\n",
       "      <td>NaN</td>\n",
       "    </tr>\n",
       "    <tr>\n",
       "      <th>999996</th>\n",
       "      <td>2023-10-06 09:43:35+00:00</td>\n",
       "      <td>24678</td>\n",
       "      <td>NaN</td>\n",
       "      <td>NaN</td>\n",
       "      <td>NaN</td>\n",
       "      <td>NaN</td>\n",
       "      <td>NaN</td>\n",
       "      <td>NaN</td>\n",
       "      <td>NaN</td>\n",
       "      <td>NaN</td>\n",
       "      <td>NaN</td>\n",
       "      <td>NaN</td>\n",
       "    </tr>\n",
       "    <tr>\n",
       "      <th>999997</th>\n",
       "      <td>2023-10-06 09:43:35+00:00</td>\n",
       "      <td>719215</td>\n",
       "      <td>NaN</td>\n",
       "      <td>NaN</td>\n",
       "      <td>NaN</td>\n",
       "      <td>NaN</td>\n",
       "      <td>NaN</td>\n",
       "      <td>NaN</td>\n",
       "      <td>NaN</td>\n",
       "      <td>NaN</td>\n",
       "      <td>NaN</td>\n",
       "      <td>NaN</td>\n",
       "    </tr>\n",
       "    <tr>\n",
       "      <th>999998</th>\n",
       "      <td>2023-10-06 09:43:35+00:00</td>\n",
       "      <td>347780</td>\n",
       "      <td>NaN</td>\n",
       "      <td>NaN</td>\n",
       "      <td>NaN</td>\n",
       "      <td>NaN</td>\n",
       "      <td>NaN</td>\n",
       "      <td>NaN</td>\n",
       "      <td>NaN</td>\n",
       "      <td>NaN</td>\n",
       "      <td>NaN</td>\n",
       "      <td>NaN</td>\n",
       "    </tr>\n",
       "    <tr>\n",
       "      <th>999999</th>\n",
       "      <td>2023-10-06 09:43:35+00:00</td>\n",
       "      <td>852953</td>\n",
       "      <td>NaN</td>\n",
       "      <td>NaN</td>\n",
       "      <td>NaN</td>\n",
       "      <td>NaN</td>\n",
       "      <td>NaN</td>\n",
       "      <td>NaN</td>\n",
       "      <td>NaN</td>\n",
       "      <td>NaN</td>\n",
       "      <td>NaN</td>\n",
       "      <td>NaN</td>\n",
       "    </tr>\n",
       "  </tbody>\n",
       "</table>\n",
       "<p>1000000 rows × 12 columns</p>\n",
       "</div>"
      ],
      "text/plain": [
       "                       timestamp entity_type_user_id  f6  f2  f0  f8  f4  f7  \\\n",
       "0      2023-10-06 12:39:28+00:00              591422 NaN NaN NaN NaN NaN NaN   \n",
       "1      2023-10-06 12:39:28+00:00              177264 NaN NaN NaN NaN NaN NaN   \n",
       "2      2023-10-06 12:39:28+00:00              167689 NaN NaN NaN NaN NaN NaN   \n",
       "3      2023-10-06 12:39:28+00:00              508185 NaN NaN NaN NaN NaN NaN   \n",
       "4      2023-10-06 12:39:28+00:00              241479 NaN NaN NaN NaN NaN NaN   \n",
       "...                          ...                 ...  ..  ..  ..  ..  ..  ..   \n",
       "999995 2023-10-06 09:43:35+00:00              445741 NaN NaN NaN NaN NaN NaN   \n",
       "999996 2023-10-06 09:43:35+00:00               24678 NaN NaN NaN NaN NaN NaN   \n",
       "999997 2023-10-06 09:43:35+00:00              719215 NaN NaN NaN NaN NaN NaN   \n",
       "999998 2023-10-06 09:43:35+00:00              347780 NaN NaN NaN NaN NaN NaN   \n",
       "999999 2023-10-06 09:43:35+00:00              852953 NaN NaN NaN NaN NaN NaN   \n",
       "\n",
       "        f3  f1  f9  f5  \n",
       "0      NaN NaN NaN NaN  \n",
       "1      NaN NaN NaN NaN  \n",
       "2      NaN NaN NaN NaN  \n",
       "3      NaN NaN NaN NaN  \n",
       "4      NaN NaN NaN NaN  \n",
       "...     ..  ..  ..  ..  \n",
       "999995 NaN NaN NaN NaN  \n",
       "999996 NaN NaN NaN NaN  \n",
       "999997 NaN NaN NaN NaN  \n",
       "999998 NaN NaN NaN NaN  \n",
       "999999 NaN NaN NaN NaN  \n",
       "\n",
       "[1000000 rows x 12 columns]"
      ]
     },
     "execution_count": 15,
     "metadata": {},
     "output_type": "execute_result"
    }
   ],
   "source": [
    "df"
   ]
  },
  {
   "cell_type": "code",
   "execution_count": 115,
   "id": "4f532eda-aa24-44cb-ac74-f4b05d58241e",
   "metadata": {},
   "outputs": [
    {
     "data": {
      "text/plain": [
       "['f0', 'f1', 'f2', 'f3', 'f4', 'f5', 'f6', 'f7', 'f8', 'f9']"
      ]
     },
     "execution_count": 115,
     "metadata": {},
     "output_type": "execute_result"
    }
   ],
   "source": [
    "ORDERS_FEATURES_IDS"
   ]
  },
  {
   "cell_type": "code",
   "execution_count": 68,
   "id": "3a0b3326-0baf-4e09-90b2-2b8a2365b41b",
   "metadata": {},
   "outputs": [
    {
     "name": "stdout",
     "output_type": "stream",
     "text": [
      "Deleting Featurestore : projects/63372408652/locations/europe-west4/featurestores/orders_predictions_729s3uvu\n",
      "Delete Featurestore  backing LRO: projects/63372408652/locations/europe-west4/operations/2801559475863945216\n",
      "Featurestore deleted. . Resource name: projects/63372408652/locations/europe-west4/featurestores/orders_predictions_729s3uvu\n"
     ]
    }
   ],
   "source": [
    "featurestore = aiplatform.featurestore.Featurestore(featurestore_name=\"orders_predictions_729s3uvu\")\n",
    "featurestore.delete(force=True)"
   ]
  }
 ],
 "metadata": {
  "environment": {
   "kernel": "python3",
   "name": "common-cpu.m107",
   "type": "gcloud",
   "uri": "gcr.io/deeplearning-platform-release/base-cpu:m107"
  },
  "kernelspec": {
   "display_name": "Python 3",
   "language": "python",
   "name": "python3"
  },
  "language_info": {
   "codemirror_mode": {
    "name": "ipython",
    "version": 3
   },
   "file_extension": ".py",
   "mimetype": "text/x-python",
   "name": "python",
   "nbconvert_exporter": "python",
   "pygments_lexer": "ipython3",
   "version": "3.7.12"
  }
 },
 "nbformat": 4,
 "nbformat_minor": 5
}
